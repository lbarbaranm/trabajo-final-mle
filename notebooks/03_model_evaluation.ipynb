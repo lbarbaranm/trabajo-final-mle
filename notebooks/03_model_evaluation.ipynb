{
 "cells": [
  {
   "cell_type": "code",
   "execution_count": null,
   "metadata": {},
   "outputs": [],
   "source": [
    "import pandas as pd\n",
    "from sklearn.metrics import mean_squared_error, r2_score\n",
    "import joblib\n",
    "\n",
    "# Cargar los datos\n",
    "data = pd.read_csv('../data/processed/clean_data.csv')\n",
    "\n",
    "# Cargar el modelo entrenado\n",
    "trained_model = joblib.load('../models/trained_model.pkl')\n",
    "\n",
    "# Predecir los precios en el conjunto de prueba\n",
    "X_test = data.drop('price', axis=1)\n",
    "y_test = data['price']\n",
    "y_pred = trained_model.predict(X_test)\n",
    "\n",
    "# Calcular métricas de evaluación\n",
    "mse = mean_squared_error(y_test, y_pred)\n",
    "r2 = r2_score(y_test, y_pred)\n",
    "\n",
    "print(\"Error cuadrático medio (MSE):\", mse)\n",
    "print(\"Coeficiente de determinación (R^2):\", r2)"
   ]
  }
 ],
 "metadata": {
  "language_info": {
   "name": "python"
  }
 },
 "nbformat": 4,
 "nbformat_minor": 2
}
